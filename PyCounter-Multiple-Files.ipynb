{
 "cells": [
  {
   "cell_type": "markdown",
   "metadata": {},
   "source": [
    "# Using PyCounter to Analyze Multiple Files"
   ]
  },
  {
   "cell_type": "markdown",
   "metadata": {},
   "source": [
    "Can we run anlyze on a multiple of COUNTER files? \n",
    "\n",
    "Borrowing from the Software Carpentry Tutorial at http://swcarpentry.github.io/python-novice-inflammation/04-files.html, we're going to try"
   ]
  },
  {
   "cell_type": "code",
   "execution_count": 7,
   "metadata": {
    "collapsed": true
   },
   "outputs": [],
   "source": [
    "import pycounter.report\n",
    "import glob"
   ]
  },
  {
   "cell_type": "code",
   "execution_count": 9,
   "metadata": {
    "collapsed": false
   },
   "outputs": [
    {
     "name": "stdout",
     "output_type": "stream",
     "text": [
      "['counter_reports/2015/JR1-JSTOR-2015.tsv']\n"
     ]
    }
   ],
   "source": [
    "print(glob.glob('counter_reports/2015/*.tsv'))"
   ]
  },
  {
   "cell_type": "markdown",
   "metadata": {},
   "source": [
    "\"As these examples show, glob.glob’s result is a list of strings, which means we can loop over it to do something with each filename in turn.\""
   ]
  },
  {
   "cell_type": "code",
   "execution_count": 21,
   "metadata": {
    "collapsed": false
   },
   "outputs": [
    {
     "name": "stdout",
     "output_type": "stream",
     "text": [
      "\n",
      "counter_reports/2015/JR1-JSTOR-2015.tsv\n",
      "\n",
      "Titles with no FT downloads: 1206\n",
      "Titles with some FT downloads: 2557\n",
      "Percentage of unused titles: 32.0488971565%\n",
      "\n"
     ]
    }
   ],
   "source": [
    "filenames = glob.glob('counter_reports/2015/*.tsv')\n",
    "# for this example we are only going to look at the first three files\n",
    "filenames = filenames[0:3]\n",
    "for f in filenames:\n",
    "    print\n",
    "    print(f)\n",
    "    \n",
    "    report = pycounter.report.parse(f)  \n",
    "\n",
    "    never_used = 0\n",
    "    used = 0\n",
    "    position = 0\n",
    "    for journal in report:\n",
    "        x = []\n",
    "        for stat in report.pubs[position]:\n",
    "            x.append(stat[2])\n",
    "        if sum(x) == 0:\n",
    "            never_used = never_used + 1\n",
    "        else:\n",
    "            used = used + 1\n",
    "        position = position + 1\n",
    "\n",
    "    print\n",
    "    print (\"Titles with no FT downloads: \" + str(never_used))\n",
    "    print (\"Titles with some FT downloads: \" + str(used))\n",
    "    total = never_used + used\n",
    "    unused = float(never_used) / total * 100\n",
    "    print (\"Percentage of unused titles: \" + str(unused) + \"%\")\n",
    "    print"
   ]
  },
  {
   "cell_type": "code",
   "execution_count": null,
   "metadata": {
    "collapsed": true
   },
   "outputs": [],
   "source": []
  }
 ],
 "metadata": {
  "kernelspec": {
   "display_name": "Python 2",
   "language": "python",
   "name": "python2"
  },
  "language_info": {
   "codemirror_mode": {
    "name": "ipython",
    "version": 2
   },
   "file_extension": ".py",
   "mimetype": "text/x-python",
   "name": "python",
   "nbconvert_exporter": "python",
   "pygments_lexer": "ipython2",
   "version": "2.7.6"
  }
 },
 "nbformat": 4,
 "nbformat_minor": 0
}

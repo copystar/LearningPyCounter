{
 "cells": [
  {
   "cell_type": "markdown",
   "metadata": {},
   "source": [
    "# Using PyCounter to Figure out How Many Titles never seen"
   ]
  },
  {
   "cell_type": "markdown",
   "metadata": {},
   "source": [
    "Ok. How many of these titles in the counter set are not null?"
   ]
  },
  {
   "cell_type": "code",
   "execution_count": 1,
   "metadata": {
    "collapsed": true
   },
   "outputs": [],
   "source": [
    "import pycounter.report"
   ]
  },
  {
   "cell_type": "code",
   "execution_count": 2,
   "metadata": {
    "collapsed": true
   },
   "outputs": [],
   "source": [
    "report = pycounter.report.parse(\"counter_reports/JR1_JSTIR_01-FEB-2016.tsv\")  "
   ]
  },
  {
   "cell_type": "code",
   "execution_count": 3,
   "metadata": {
    "collapsed": false
   },
   "outputs": [
    {
     "name": "stdout",
     "output_type": "stream",
     "text": [
      "Titles with no FT downloads: 1206\n",
      "Titles with some FT downloads: 2557\n",
      "Percentage of unused titles: 32.0488971565%\n"
     ]
    }
   ],
   "source": [
    "never_used = 0\n",
    "used = 0\n",
    "position = 0\n",
    "for journal in report:\n",
    "    x = []\n",
    "    for stat in report.pubs[position]:\n",
    "        x.append(stat[2])\n",
    "    if sum(x) == 0:\n",
    "        never_used = never_used + 1\n",
    "    else:\n",
    "        used = used + 1\n",
    "    position = position+ 1\n",
    "\n",
    "print (\"Titles with no FT downloads: \" + str(never_used))\n",
    "print (\"Titles with some FT downloads: \" + str(used))\n",
    "total = never_used + used\n",
    "unused = float(never_used) / total * 100\n",
    "print (\"Percentage of unused titles: \" + str(unused) + \"%\")"
   ]
  },
  {
   "cell_type": "code",
   "execution_count": null,
   "metadata": {
    "collapsed": true
   },
   "outputs": [],
   "source": []
  }
 ],
 "metadata": {
  "kernelspec": {
   "display_name": "Python 2",
   "language": "python",
   "name": "python2"
  },
  "language_info": {
   "codemirror_mode": {
    "name": "ipython",
    "version": 2
   },
   "file_extension": ".py",
   "mimetype": "text/x-python",
   "name": "python",
   "nbconvert_exporter": "python",
   "pygments_lexer": "ipython2",
   "version": "2.7.6"
  }
 },
 "nbformat": 4,
 "nbformat_minor": 0
}

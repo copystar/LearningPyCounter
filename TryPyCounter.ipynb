{
 "cells": [
  {
   "cell_type": "markdown",
   "metadata": {},
   "source": [
    "# Trying out PyCounter"
   ]
  },
  {
   "cell_type": "markdown",
   "metadata": {},
   "source": [
    "pycounter makes working with COUNTER usage statistics in Python easy, including fetching statistics with NISO SUSHI. You can find more information [about pycounter here.](http://pycounter.readthedocs.org/en/stable/index.html)."
   ]
  },
  {
   "cell_type": "code",
   "execution_count": 2,
   "metadata": {
    "collapsed": true
   },
   "outputs": [],
   "source": [
    "import pycounter.report"
   ]
  },
  {
   "cell_type": "code",
   "execution_count": 3,
   "metadata": {
    "collapsed": true
   },
   "outputs": [],
   "source": [
    "report = pycounter.report.parse(\"counter_reports/JR1_JSTIR_01-FEB-2016.tsv\")  "
   ]
  },
  {
   "cell_type": "code",
   "execution_count": 4,
   "metadata": {
    "collapsed": false
   },
   "outputs": [
    {
     "name": "stdout",
     "output_type": "stream",
     "text": [
      "FT Article Requests\n"
     ]
    }
   ],
   "source": [
    "print(report.metric)"
   ]
  },
  {
   "cell_type": "code",
   "execution_count": 5,
   "metadata": {
    "collapsed": false
   },
   "outputs": [],
   "source": [
    "# for journal in report:\n",
    "#    print(journal.title)"
   ]
  },
  {
   "cell_type": "code",
   "execution_count": 6,
   "metadata": {
    "collapsed": false
   },
   "outputs": [
    {
     "name": "stdout",
     "output_type": "stream",
     "text": [
      "19th-Century Music\n"
     ]
    }
   ],
   "source": [
    "print report.pubs[1].title"
   ]
  },
  {
   "cell_type": "code",
   "execution_count": 7,
   "metadata": {
    "collapsed": false
   },
   "outputs": [
    {
     "name": "stdout",
     "output_type": "stream",
     "text": [
      "University of California Press\n"
     ]
    }
   ],
   "source": [
    "print report.pubs[1].publisher"
   ]
  },
  {
   "cell_type": "code",
   "execution_count": 8,
   "metadata": {
    "collapsed": false
   },
   "outputs": [
    {
     "name": "stdout",
     "output_type": "stream",
     "text": [
      "Ithaka\n"
     ]
    }
   ],
   "source": [
    "print report.pubs[1].platform"
   ]
  },
  {
   "cell_type": "code",
   "execution_count": 9,
   "metadata": {
    "collapsed": false
   },
   "outputs": [
    {
     "name": "stdout",
     "output_type": "stream",
     "text": [
      "(datetime.date(2015, 1, 1), datetime.date(2015, 12, 31))\n"
     ]
    }
   ],
   "source": [
    "print report.pubs[1].period"
   ]
  },
  {
   "cell_type": "code",
   "execution_count": 10,
   "metadata": {
    "collapsed": false
   },
   "outputs": [
    {
     "name": "stdout",
     "output_type": "stream",
     "text": [
      "FT Article Requests\n"
     ]
    }
   ],
   "source": [
    "print report.pubs[1].metric"
   ]
  },
  {
   "cell_type": "code",
   "execution_count": 11,
   "metadata": {
    "collapsed": false
   },
   "outputs": [
    {
     "name": "stdout",
     "output_type": "stream",
     "text": [
      "1533-8606\n"
     ]
    }
   ],
   "source": [
    "print report.pubs[1].eissn"
   ]
  },
  {
   "cell_type": "code",
   "execution_count": 12,
   "metadata": {
    "collapsed": false
   },
   "outputs": [
    {
     "name": "stdout",
     "output_type": "stream",
     "text": [
      "0148-2076\n"
     ]
    }
   ],
   "source": [
    "print report.pubs[1].issn"
   ]
  },
  {
   "cell_type": "code",
   "execution_count": 13,
   "metadata": {
    "collapsed": false
   },
   "outputs": [
    {
     "name": "stdout",
     "output_type": "stream",
     "text": [
      "34\n"
     ]
    }
   ],
   "source": [
    "print report.pubs[1].html_total"
   ]
  },
  {
   "cell_type": "code",
   "execution_count": 14,
   "metadata": {
    "collapsed": false
   },
   "outputs": [
    {
     "name": "stdout",
     "output_type": "stream",
     "text": [
      "42\n"
     ]
    }
   ],
   "source": [
    "print report.pubs[1].pdf_total"
   ]
  },
  {
   "cell_type": "code",
   "execution_count": 15,
   "metadata": {
    "collapsed": false
   },
   "outputs": [
    {
     "name": "stdout",
     "output_type": "stream",
     "text": [
      "(datetime.date(2015, 1, 1), u'FT Article Requests', 0)\n",
      "(datetime.date(2015, 2, 1), u'FT Article Requests', 8)\n",
      "(datetime.date(2015, 3, 1), u'FT Article Requests', 40)\n",
      "(datetime.date(2015, 4, 1), u'FT Article Requests', 17)\n",
      "(datetime.date(2015, 5, 1), u'FT Article Requests', 6)\n",
      "(datetime.date(2015, 6, 1), u'FT Article Requests', 1)\n",
      "(datetime.date(2015, 7, 1), u'FT Article Requests', 0)\n",
      "(datetime.date(2015, 8, 1), u'FT Article Requests', 0)\n",
      "(datetime.date(2015, 9, 1), u'FT Article Requests', 1)\n",
      "(datetime.date(2015, 10, 1), u'FT Article Requests', 1)\n",
      "(datetime.date(2015, 11, 1), u'FT Article Requests', 2)\n",
      "(datetime.date(2015, 12, 1), u'FT Article Requests', 0)\n"
     ]
    }
   ],
   "source": [
    "for stat in report.pubs[1]:\n",
    "    print(stat)"
   ]
  },
  {
   "cell_type": "code",
   "execution_count": 21,
   "metadata": {
    "collapsed": false
   },
   "outputs": [
    {
     "name": "stdout",
     "output_type": "stream",
     "text": [
      "0\n",
      "8\n",
      "40\n",
      "17\n",
      "6\n",
      "1\n",
      "0\n",
      "0\n",
      "1\n",
      "1\n",
      "2\n",
      "0\n"
     ]
    }
   ],
   "source": [
    "for stat in report.pubs[1]:\n",
    "    print(stat[2])"
   ]
  },
  {
   "cell_type": "code",
   "execution_count": 20,
   "metadata": {
    "collapsed": false
   },
   "outputs": [
    {
     "name": "stdout",
     "output_type": "stream",
     "text": [
      "[0, 8, 40, 17, 6, 1, 0, 0, 1, 1, 2, 0]\n"
     ]
    }
   ],
   "source": [
    "x = []\n",
    "for stat in report.pubs[1]:\n",
    "    x.append(stat[2])\n",
    "print(x)"
   ]
  },
  {
   "cell_type": "code",
   "execution_count": 27,
   "metadata": {
    "collapsed": false
   },
   "outputs": [
    {
     "name": "stdout",
     "output_type": "stream",
     "text": [
      "2015-01-01\n",
      "2015-02-01\n",
      "2015-03-01\n",
      "2015-04-01\n",
      "2015-05-01\n",
      "2015-06-01\n",
      "2015-07-01\n",
      "2015-08-01\n",
      "2015-09-01\n",
      "2015-10-01\n",
      "2015-11-01\n",
      "2015-12-01\n"
     ]
    }
   ],
   "source": [
    "for stat in report.pubs[1]:\n",
    "    print(stat[0])"
   ]
  },
  {
   "cell_type": "code",
   "execution_count": 25,
   "metadata": {
    "collapsed": false
   },
   "outputs": [
    {
     "name": "stdout",
     "output_type": "stream",
     "text": [
      "1\n",
      "2\n",
      "3\n",
      "4\n",
      "5\n",
      "6\n",
      "7\n",
      "8\n",
      "9\n",
      "10\n",
      "11\n",
      "12\n"
     ]
    }
   ],
   "source": [
    "for stat in report.pubs[1]:\n",
    "    print(stat[0].month)"
   ]
  },
  {
   "cell_type": "code",
   "execution_count": 26,
   "metadata": {
    "collapsed": false
   },
   "outputs": [
    {
     "name": "stdout",
     "output_type": "stream",
     "text": [
      "[1, 2, 3, 4, 5, 6, 7, 8, 9, 10, 11, 12]\n"
     ]
    }
   ],
   "source": [
    "y = []\n",
    "for stat in report.pubs[1]:\n",
    "    y.append(stat[0].month)\n",
    "print(y)"
   ]
  },
  {
   "cell_type": "code",
   "execution_count": 29,
   "metadata": {
    "collapsed": false
   },
   "outputs": [
    {
     "data": {
      "text/plain": [
       "u'0.17.1'"
      ]
     },
     "execution_count": 29,
     "metadata": {},
     "output_type": "execute_result"
    }
   ],
   "source": [
    "import pandas as pd\n",
    "import numpy as np\n",
    "import matplotlib.pyplot as plt\n",
    "pd.__version__"
   ]
  },
  {
   "cell_type": "code",
   "execution_count": 30,
   "metadata": {
    "collapsed": true
   },
   "outputs": [],
   "source": [
    "%matplotlib inline "
   ]
  },
  {
   "cell_type": "code",
   "execution_count": 31,
   "metadata": {
    "collapsed": false
   },
   "outputs": [
    {
     "data": {
      "image/png": "[encoded data removed]",
      "text/plain": [
       "<matplotlib.figure.Figure at 0x7fdfc5128390>"
      ]
     },
     "metadata": {},
     "output_type": "display_data"
    }
   ],
   "source": [
    "plt.plot([1,2,3,4])\n",
    "plt.ylabel('some numbers')\n",
    "plt.show()"
   ]
  },
  {
   "cell_type": "code",
   "execution_count": 37,
   "metadata": {
    "collapsed": false
   },
   "outputs": [
    {
     "data": {
      "image/png": "[encoded data removed]",
      "text/plain": [
       "<matplotlib.figure.Figure at 0x7fdfc4a843d0>"
      ]
     },
     "metadata": {},
     "output_type": "display_data"
    }
   ],
   "source": [
    "plt.plot(y,x)\n",
    "plt.xlabel('Month')\n",
    "plt.axis([1, 12, 0, 100])\n",
    "plt.title('19th-Century Music FT Article Requests, 2015')\n",
    "plt.show()"
   ]
  },
  {
   "cell_type": "markdown",
   "metadata": {},
   "source": [
    "The cell below will go through each journal in the counter file and plot out a little graph for FT requests"
   ]
  },
  {
   "cell_type": "code",
   "execution_count": null,
   "metadata": {
    "collapsed": true
   },
   "outputs": [],
   "source": [
    "# y = [1,2,3,4,5,6,7,8,9,10,11,12]\n",
    "# position = 0\n",
    "# for journal in report:\n",
    "#     x = []\n",
    "#     for stat in report.pubs[position]:\n",
    "#         x.append(stat[2])\n",
    "#     plt.plot(y,x)\n",
    "#     plt.axis([1, 12, 0, 100])\n",
    "#     plt.xlabel('Month')\n",
    "#     plt.title(journal.title)\n",
    "#     plt.show()\n",
    "#     position = position + 1"
   ]
  }
 ],
 "metadata": {
  "kernelspec": {
   "display_name": "Python 2",
   "language": "python",
   "name": "python2"
  },
  "language_info": {
   "codemirror_mode": {
    "name": "ipython",
    "version": 2
   },
   "file_extension": ".py",
   "mimetype": "text/x-python",
   "name": "python",
   "nbconvert_exporter": "python",
   "pygments_lexer": "ipython2",
   "version": "2.7.6"
  }
 },
 "nbformat": 4,
 "nbformat_minor": 0
}
